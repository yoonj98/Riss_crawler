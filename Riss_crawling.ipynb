{
 "cells": [
  {
   "cell_type": "markdown",
   "metadata": {},
   "source": [
    "# 특정 키워드로 RISS 논문 검색 후 논문 정보 크롤링하기\n",
    "###### By Selenium"
   ]
  },
  {
   "cell_type": "code",
   "execution_count": 1,
   "metadata": {
    "scrolled": true
   },
   "outputs": [
    {
     "name": "stdout",
     "output_type": "stream",
     "text": [
      "Collecting selenium\n",
      "  Downloading selenium-3.141.0-py2.py3-none-any.whl (904 kB)\n",
      "Requirement already satisfied: urllib3 in c:\\users\\tldus\\anaconda3\\lib\\site-packages (from selenium) (1.25.8)\n",
      "Installing collected packages: selenium\n",
      "Successfully installed selenium-3.141.0\n",
      "Note: you may need to restart the kernel to use updated packages.\n"
     ]
    }
   ],
   "source": [
    "pip install selenium"
   ]
  },
  {
   "cell_type": "code",
   "execution_count": 104,
   "metadata": {},
   "outputs": [],
   "source": [
    "from selenium import webdriver\n",
    "from selenium.webdriver.common.keys import Keys\n",
    "from selenium.webdriver.support.select import Select\n",
    "from selenium.webdriver.chrome.options import Options\n",
    "import time\n",
    "from time import sleep"
   ]
  },
  {
   "cell_type": "code",
   "execution_count": 174,
   "metadata": {},
   "outputs": [],
   "source": [
    "keyword='크롤링'  #검색용 키워드\n",
    "paper=[]  #결과 저장용 리스트"
   ]
  },
  {
   "cell_type": "code",
   "execution_count": 177,
   "metadata": {},
   "outputs": [],
   "source": [
    "driver = webdriver.Chrome()  #드라이버 킴"
   ]
  },
  {
   "cell_type": "code",
   "execution_count": 178,
   "metadata": {},
   "outputs": [],
   "source": [
    "driver.get('http://www.riss.kr/index.do')   #riss 들어감"
   ]
  },
  {
   "cell_type": "code",
   "execution_count": 180,
   "metadata": {},
   "outputs": [],
   "source": [
    "driver.find_element_by_name('query').send_keys(keyword)   #검색용 키워드 입력\n",
    "driver.find_element_by_name('query').submit()   #검색용 키워드 검색"
   ]
  },
  {
   "cell_type": "code",
   "execution_count": 181,
   "metadata": {},
   "outputs": [],
   "source": [
    "driver.find_element_by_xpath('/html/body/div[1]/div[2]/div[4]/div/div/div[2]/div[1]/div[2]/a').click()   #더보기 클릭"
   ]
  },
  {
   "cell_type": "code",
   "execution_count": 161,
   "metadata": {},
   "outputs": [],
   "source": [
    "total=driver.find_element_by_xpath('/html/body/div[1]/div[2]/div[4]/div[2]/div/div[1]/dl/dd/span/span').text  #전체 논문수   "
   ]
  },
  {
   "cell_type": "code",
   "execution_count": 169,
   "metadata": {},
   "outputs": [],
   "source": [
    "def store():\n",
    "    list=[]  #빈 리스트\n",
    "    str1=\"\"  #저자\n",
    "    str2=\"\"  #연도\n",
    "    str3=\"\"  #제목\n",
    "    str4=\"\"  #초록\n",
    "        \n",
    "    #저자\n",
    "    str1=driver.find_element_by_xpath('/html/body/div/div[4]/div[4]/div/div/div/div[1]/div[2]/div[1]/ul/li[1]/div/p/a').text\n",
    "        \n",
    "    #연도\n",
    "    str2=driver.find_element_by_xpath('/html/body/div/div[4]/div[4]/div/div/div/div[1]/div[2]/div[1]/ul/li[4]/div/p').text\n",
    "        \n",
    "    #제목\n",
    "    str3=driver.find_element_by_xpath('/html/body/div/div[4]/div[4]/div/div/div/div[1]/div[1]/h3').text\n",
    "             \n",
    "    #초록    \n",
    "    try:\n",
    "        try:\n",
    "            more='/html/body/div/div[4]/div[4]/div/div/div/div[2]/div[1]/div/div/a'   #더보기 열기 (부가정보에 1개만 존재)\n",
    "            driver.find_element_by_xpath(more).send_keys(Keys.ENTER)   #더보기 클릭\n",
    "            sleep(0.5)\n",
    "        except:\n",
    "            for k in range(1,3):  #더보기 열기\n",
    "                more='/html/body/div/div[4]/div[4]/div/div/div/div[2]/div[1]/div/div['+str(k)+']/a'\n",
    "                driver.find_element_by_xpath(more).send_keys(Keys.ENTER)   #더보기 클릭\n",
    "                sleep(0.5)\n",
    "            \n",
    "        title='/html/body/div/div[4]/div[4]/div/div/div/div[2]/div[1]/div/div/p'   #국문초록만 존재\n",
    "        title1='/html/body/div/div[4]/div[4]/div/div/div/div[2]/div[1]/div/div[1]/p'   #국문초록 1번\n",
    "        title2='/html/body/div/div[4]/div[4]/div/div/div/div[2]/div[1]/div/div[2]/p'   #국문초록 2번\n",
    "\n",
    "        try:\n",
    "            if driver.find_element_by_xpath(title).text[0] == '국':\n",
    "                abstract='/html/body/div/div[4]/div[4]/div/div/div/div[2]/div[1]/div/div/div[3]/p'\n",
    "            elif driver.find_element_by_xpath(title1).text[0] == '국':\n",
    "                abstract='/html/body/div/div[4]/div[4]/div/div/div/div[2]/div[1]/div/div[1]/div[3]/p'\n",
    "            elif driver.find_element_by_xpath(title2).text[0] == '국':\n",
    "                abstract='/html/body/div/div[4]/div[4]/div/div/div/div[2]/div[1]/div/div[2]/div[3]/p'\n",
    "            str4=driver.find_element_by_xpath(abstract).text \n",
    "        except:\n",
    "            str4=\"국문초록 없음\"\n",
    "            \n",
    "    except:  \n",
    "        str4=\"국문초록 없음\"\n",
    "                    \n",
    "    list.append(str1)\n",
    "    list.append(str2)\n",
    "    list.append(str3)\n",
    "    list.append(str4)\n",
    "    paper.append(list)\n",
    "    sleep(2)"
   ]
  },
  {
   "cell_type": "code",
   "execution_count": 163,
   "metadata": {},
   "outputs": [],
   "source": [
    "i=2\n",
    "num=0\n",
    "page10=True\n",
    "\n",
    "while(i<14):  #페이지 10단위로 넘기기\n",
    "    try:\n",
    "        for j in range(1,11):  #논문 객체\n",
    "            try:\n",
    "                title='//*[@id=\"divContent\"]/div[2]/div/div[2]/div[2]/ul/li['+str(j)+']/div[2]/p[1]/a'  #이동\n",
    "                driver.find_element_by_xpath(title).send_keys(Keys.CONTROL + '\\n')   #새창열기 >> 컨트롤+엔터\n",
    "                driver.switch_to.window(driver.window_handles[1])   #열린 창으로 페이지 이동\n",
    "                    \n",
    "                store()  #크롤링 함수                \n",
    "                num=num+1\n",
    "                    \n",
    "                driver.close()\n",
    "                driver.switch_to.window(driver.window_handles[0])   #논문 창으로 페이지 이동\n",
    "                sleep(2)\n",
    "                \n",
    "                if(num == int(total)):  #총 논문수 동일 >> for문 탈출\n",
    "                    break;\n",
    "                    \n",
    "            except Exception as e:   #한 페이지에 논문이 10보다 적은 경우\n",
    "                print(e)\n",
    "        \n",
    "        if(num == int(total)):  #총 논문수 동일 >> while문 탈출\n",
    "                    break;\n",
    "        \n",
    "        i=i+1\n",
    "        page='/html/body/div[1]/div[2]/div[4]/div[2]/div/div[3]/a['+str(i)+']'\n",
    "        driver.find_element_by_xpath(page).send_keys(Keys.ENTER)  #10개 다 긁었으므로 다음 페이지 이동\n",
    "        \n",
    "        if(page10==True and i==12): #10 페이지 넘어감 >> 리셋\n",
    "            page10=False\n",
    "            i=3\n",
    "        elif(page10==False and i==13):  #20,  30... 페이지 넘어감 >> 리셋\n",
    "            i=3\n",
    "            \n",
    "    except Exception as e:   \n",
    "                print(e)               "
   ]
  }
 ],
 "metadata": {
  "kernelspec": {
   "display_name": "Python 3",
   "language": "python",
   "name": "python3"
  },
  "language_info": {
   "codemirror_mode": {
    "name": "ipython",
    "version": 3
   },
   "file_extension": ".py",
   "mimetype": "text/x-python",
   "name": "python",
   "nbconvert_exporter": "python",
   "pygments_lexer": "ipython3",
   "version": "3.7.6"
  }
 },
 "nbformat": 4,
 "nbformat_minor": 4
}
